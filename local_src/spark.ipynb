{
 "cells": [
  {
   "cell_type": "code",
   "execution_count": 1,
   "id": "10cf1797-c037-4811-a9de-d4ae6e88443f",
   "metadata": {},
   "outputs": [],
   "source": [
    "from masa_madre.consultas.bases import BaseProveedores"
   ]
  },
  {
   "cell_type": "code",
   "execution_count": null,
   "id": "1fbf8825-633e-4c0d-9aa6-097f53052d19",
   "metadata": {},
   "outputs": [],
   "source": []
  },
  {
   "cell_type": "code",
   "execution_count": 1,
   "id": "ae4be8e9-a76a-4b41-bc84-2bcb7f8e565f",
   "metadata": {},
   "outputs": [],
   "source": [
    "import logging\n",
    "import pathlib\n",
    "from datetime import datetime\n",
    "\n",
    "import pandas as pd\n",
    "from dateutil.relativedelta import relativedelta\n",
    "from pyspark.conf import SparkConf\n",
    "from pyspark.sql import SparkSession, DataFrame\n",
    "\n",
    "from bases import BaseProveedores\n",
    "\n",
    "from spark import crear_vista_oracle, crear_sesion_spark, agregar_precios_impventa_cantventa_dproducto, agregar_precios_impventa_moda"
   ]
  },
  {
   "cell_type": "code",
   "execution_count": 2,
   "id": "1af62e07-6733-4d3b-87e9-4826f660a5d6",
   "metadata": {},
   "outputs": [
    {
     "name": "stderr",
     "output_type": "stream",
     "text": [
      "2021-11-25 02:52:22,103 - *** Iniciando Sesión Spark. ***\n",
      "2021-11-25 02:52:26,519 -   ---> Sesión Spark iniciada.\n"
     ]
    }
   ],
   "source": [
    "spark_session = crear_sesion_spark(\"prueba_local\", 'local')"
   ]
  },
  {
   "cell_type": "code",
   "execution_count": 3,
   "id": "dff3a9ec-02c4-4965-a4e9-51f70a590ba7",
   "metadata": {},
   "outputs": [
    {
     "data": {
      "text/plain": [
       "DataFrame[CODIGO: double]"
      ]
     },
     "execution_count": 3,
     "metadata": {},
     "output_type": "execute_result"
    }
   ],
   "source": [
    "crear_vista_oracle(spark_session, \"SELECT CODIGO FROM DW.D_PRODUCTO LIMIT 10\", \"dprod\", entorno = 'local')"
   ]
  },
  {
   "cell_type": "code",
   "execution_count": 4,
   "id": "a1de389c-86e9-456e-8af3-4153dc4a4eca",
   "metadata": {},
   "outputs": [],
   "source": [
    "base_prueba = BaseProveedores('br', 'admin', 'local')\n",
    "db_prueba = base_prueba.ejecutar_consulta(\"SELECT CODIGO PROD_CODIGO, CODIGO_BARRAS, DESCRIPCION FROM DW.D_PRODUCTO LIMIT 10\")"
   ]
  },
  {
   "cell_type": "code",
   "execution_count": 5,
   "id": "fffa4ee9-5fb3-4324-b156-e30054437e38",
   "metadata": {
    "tags": []
   },
   "outputs": [
    {
     "name": "stderr",
     "output_type": "stream",
     "text": [
      "2021-11-25 02:52:34,054 - *** Agregando info de ventas a nivel de d_producto\n",
      "2021-11-25 02:52:34,056 - *** Iniciando Sesión Spark. ***\n",
      "2021-11-25 02:52:34,089 -   ---> Sesión Spark iniciada.\n",
      "2021-11-25 02:52:34,131 - *** Registrando informacion de ventas\n",
      "2021-11-25 02:54:43,969 -   ---> Informacion de ventas registrada\n",
      "2021-11-25 02:54:43,970 - *** Procesando dataframe final\n",
      "2021-11-25 02:54:53,164 - ### Finalizó el agregado de info de ventas a nivel de d_producto\n"
     ]
    },
    {
     "data": {
      "text/html": [
       "<div>\n",
       "<style scoped>\n",
       "    .dataframe tbody tr th:only-of-type {\n",
       "        vertical-align: middle;\n",
       "    }\n",
       "\n",
       "    .dataframe tbody tr th {\n",
       "        vertical-align: top;\n",
       "    }\n",
       "\n",
       "    .dataframe thead th {\n",
       "        text-align: right;\n",
       "    }\n",
       "</style>\n",
       "<table border=\"1\" class=\"dataframe\">\n",
       "  <thead>\n",
       "    <tr style=\"text-align: right;\">\n",
       "      <th></th>\n",
       "      <th>PROD_CODIGO</th>\n",
       "      <th>CODIGO_BARRAS</th>\n",
       "      <th>DESCRIPCION</th>\n",
       "      <th>PRECIO_MIN</th>\n",
       "      <th>PRECIO_MEDIO</th>\n",
       "      <th>PRECIO_MAX</th>\n",
       "      <th>IMP_VTA</th>\n",
       "      <th>UNIDADES_VENDIDAS</th>\n",
       "      <th>PDV_CON_VENTAS</th>\n",
       "    </tr>\n",
       "  </thead>\n",
       "  <tbody>\n",
       "    <tr>\n",
       "      <th>0</th>\n",
       "      <td>1791775.0</td>\n",
       "      <td>9.990003e+12</td>\n",
       "      <td>GASOLINA COMUM                                ...</td>\n",
       "      <td>NaN</td>\n",
       "      <td>NaN</td>\n",
       "      <td>NaN</td>\n",
       "      <td>None</td>\n",
       "      <td>NaN</td>\n",
       "      <td>0</td>\n",
       "    </tr>\n",
       "    <tr>\n",
       "      <th>1</th>\n",
       "      <td>1791781.0</td>\n",
       "      <td>9.990003e+12</td>\n",
       "      <td>COMB ALCOOL                                   ...</td>\n",
       "      <td>NaN</td>\n",
       "      <td>NaN</td>\n",
       "      <td>NaN</td>\n",
       "      <td>None</td>\n",
       "      <td>NaN</td>\n",
       "      <td>0</td>\n",
       "    </tr>\n",
       "    <tr>\n",
       "      <th>2</th>\n",
       "      <td>3192503.0</td>\n",
       "      <td>7.899450e+12</td>\n",
       "      <td>BIJOUX KIT KOK 4.99                           ...</td>\n",
       "      <td>NaN</td>\n",
       "      <td>NaN</td>\n",
       "      <td>NaN</td>\n",
       "      <td>None</td>\n",
       "      <td>NaN</td>\n",
       "      <td>0</td>\n",
       "    </tr>\n",
       "    <tr>\n",
       "      <th>3</th>\n",
       "      <td>5476348.0</td>\n",
       "      <td>7.899963e+12</td>\n",
       "      <td>PNEU DUNLOP 175                               ...</td>\n",
       "      <td>302.100000</td>\n",
       "      <td>318.500000</td>\n",
       "      <td>334.900000</td>\n",
       "      <td>1870.000000000000000000</td>\n",
       "      <td>3.0</td>\n",
       "      <td>2</td>\n",
       "    </tr>\n",
       "    <tr>\n",
       "      <th>4</th>\n",
       "      <td>554.0</td>\n",
       "      <td>7.894650e+12</td>\n",
       "      <td>CERA GRAND PRIX 200G TRADICIONAL              ...</td>\n",
       "      <td>19.916000</td>\n",
       "      <td>24.990000</td>\n",
       "      <td>31.900000</td>\n",
       "      <td>2944.100000000000000000</td>\n",
       "      <td>115.0</td>\n",
       "      <td>102</td>\n",
       "    </tr>\n",
       "    <tr>\n",
       "      <th>5</th>\n",
       "      <td>6109504.0</td>\n",
       "      <td>5.134218e+10</td>\n",
       "      <td>PN175/70R14 EUZKADI2                          ...</td>\n",
       "      <td>NaN</td>\n",
       "      <td>NaN</td>\n",
       "      <td>NaN</td>\n",
       "      <td>None</td>\n",
       "      <td>NaN</td>\n",
       "      <td>0</td>\n",
       "    </tr>\n",
       "    <tr>\n",
       "      <th>6</th>\n",
       "      <td>6109996.0</td>\n",
       "      <td>5.134218e+10</td>\n",
       "      <td>PN 175/65R14 EUZKADI                          ...</td>\n",
       "      <td>321.740333</td>\n",
       "      <td>321.741667</td>\n",
       "      <td>391.548333</td>\n",
       "      <td>2982.930000000000000000</td>\n",
       "      <td>4.0</td>\n",
       "      <td>3</td>\n",
       "    </tr>\n",
       "    <tr>\n",
       "      <th>7</th>\n",
       "      <td>6110360.0</td>\n",
       "      <td>5.134213e+10</td>\n",
       "      <td>PN185/65R15 EUZKADI                           ...</td>\n",
       "      <td>NaN</td>\n",
       "      <td>NaN</td>\n",
       "      <td>NaN</td>\n",
       "      <td>None</td>\n",
       "      <td>NaN</td>\n",
       "      <td>0</td>\n",
       "    </tr>\n",
       "    <tr>\n",
       "      <th>8</th>\n",
       "      <td>6890751.0</td>\n",
       "      <td>7.891737e+12</td>\n",
       "      <td>PULSEIRA P263 PEDRAS E PING                   ...</td>\n",
       "      <td>NaN</td>\n",
       "      <td>NaN</td>\n",
       "      <td>NaN</td>\n",
       "      <td>None</td>\n",
       "      <td>NaN</td>\n",
       "      <td>0</td>\n",
       "    </tr>\n",
       "    <tr>\n",
       "      <th>9</th>\n",
       "      <td>6892643.0</td>\n",
       "      <td>7.891737e+12</td>\n",
       "      <td>BRINCO LG B439 PEDRAS                         ...</td>\n",
       "      <td>NaN</td>\n",
       "      <td>NaN</td>\n",
       "      <td>NaN</td>\n",
       "      <td>None</td>\n",
       "      <td>NaN</td>\n",
       "      <td>0</td>\n",
       "    </tr>\n",
       "  </tbody>\n",
       "</table>\n",
       "</div>"
      ],
      "text/plain": [
       "  PROD_CODIGO  CODIGO_BARRAS  \\\n",
       "0   1791775.0   9.990003e+12   \n",
       "1   1791781.0   9.990003e+12   \n",
       "2   3192503.0   7.899450e+12   \n",
       "3   5476348.0   7.899963e+12   \n",
       "4       554.0   7.894650e+12   \n",
       "5   6109504.0   5.134218e+10   \n",
       "6   6109996.0   5.134218e+10   \n",
       "7   6110360.0   5.134213e+10   \n",
       "8   6890751.0   7.891737e+12   \n",
       "9   6892643.0   7.891737e+12   \n",
       "\n",
       "                                         DESCRIPCION  PRECIO_MIN  \\\n",
       "0  GASOLINA COMUM                                ...         NaN   \n",
       "1  COMB ALCOOL                                   ...         NaN   \n",
       "2  BIJOUX KIT KOK 4.99                           ...         NaN   \n",
       "3  PNEU DUNLOP 175                               ...  302.100000   \n",
       "4  CERA GRAND PRIX 200G TRADICIONAL              ...   19.916000   \n",
       "5  PN175/70R14 EUZKADI2                          ...         NaN   \n",
       "6  PN 175/65R14 EUZKADI                          ...  321.740333   \n",
       "7  PN185/65R15 EUZKADI                           ...         NaN   \n",
       "8  PULSEIRA P263 PEDRAS E PING                   ...         NaN   \n",
       "9  BRINCO LG B439 PEDRAS                         ...         NaN   \n",
       "\n",
       "   PRECIO_MEDIO  PRECIO_MAX                  IMP_VTA  UNIDADES_VENDIDAS  \\\n",
       "0           NaN         NaN                     None                NaN   \n",
       "1           NaN         NaN                     None                NaN   \n",
       "2           NaN         NaN                     None                NaN   \n",
       "3    318.500000  334.900000  1870.000000000000000000                3.0   \n",
       "4     24.990000   31.900000  2944.100000000000000000              115.0   \n",
       "5           NaN         NaN                     None                NaN   \n",
       "6    321.741667  391.548333  2982.930000000000000000                4.0   \n",
       "7           NaN         NaN                     None                NaN   \n",
       "8           NaN         NaN                     None                NaN   \n",
       "9           NaN         NaN                     None                NaN   \n",
       "\n",
       "   PDV_CON_VENTAS  \n",
       "0               0  \n",
       "1               0  \n",
       "2               0  \n",
       "3               2  \n",
       "4             102  \n",
       "5               0  \n",
       "6               3  \n",
       "7               0  \n",
       "8               0  \n",
       "9               0  "
      ]
     },
     "execution_count": 5,
     "metadata": {},
     "output_type": "execute_result"
    }
   ],
   "source": [
    "agregar_precios_impventa_cantventa_dproducto(db_prueba, 'br', entorno = 'local')"
   ]
  },
  {
   "cell_type": "code",
   "execution_count": null,
   "id": "45f1ed3d-7106-4e36-859b-021f49e08161",
   "metadata": {
    "tags": []
   },
   "outputs": [
    {
     "name": "stderr",
     "output_type": "stream",
     "text": [
      "2021-11-25 02:55:03,774 - *** Agregando info de precios a nivel de prod_codigo y codigo_barras\n",
      "2021-11-25 02:55:03,775 - *** Iniciando Sesión Spark. ***\n",
      "2021-11-25 02:55:03,922 -   ---> Sesión Spark iniciada.\n",
      "2021-11-25 02:55:03,924 - *** Registrando informacion de precios\n"
     ]
    }
   ],
   "source": [
    "agregar_precios_impventa_moda(db_prueba, entorno = 'local')"
   ]
  },
  {
   "cell_type": "code",
   "execution_count": null,
   "id": "044a30db-b4b8-4d86-b5ad-9fb15adb6ad9",
   "metadata": {},
   "outputs": [],
   "source": []
  }
 ],
 "metadata": {
  "kernelspec": {
   "display_name": "Python 3",
   "language": "python",
   "name": "python3"
  },
  "language_info": {
   "codemirror_mode": {
    "name": "ipython",
    "version": 3
   },
   "file_extension": ".py",
   "mimetype": "text/x-python",
   "name": "python",
   "nbconvert_exporter": "python",
   "pygments_lexer": "ipython3",
   "version": "3.6.13"
  }
 },
 "nbformat": 4,
 "nbformat_minor": 5
}
